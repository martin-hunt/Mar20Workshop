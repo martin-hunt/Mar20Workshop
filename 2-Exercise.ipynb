{
 "cells": [
  {
   "cell_type": "markdown",
   "metadata": {},
   "source": [
    "# Exercise 2\n",
    "\n",
    "Open your MonteCarloPi notebook.  Make a copy (File/Make a Copy). At the end put the following in a cell"
   ]
  },
  {
   "cell_type": "markdown",
   "metadata": {},
   "source": [
    "``` python \n",
    "import plotly.graph_objs as go\n",
    "fig = go.FigureWidget()\n",
    "fig.layout.xaxis = {'type': 'log'}\n",
    "fig\n",
    "```"
   ]
  },
  {
   "cell_type": "markdown",
   "metadata": {},
   "source": [
    "This will create a plot with a log scale on the X axis.  We want to plot the approximation of $\\pi$ vs N (the number of random points). Here's some code to do that:"
   ]
  },
  {
   "cell_type": "markdown",
   "metadata": {},
   "source": [
    "```python\n",
    "run_number = 0\n",
    "def plot_pi():\n",
    "    global run_number\n",
    "    y = []\n",
    "    n = [10, 100, 1000, 10000, 100000, 1000000, 10000000]\n",
    "    for x in n:\n",
    "        y.append(approx_pi(x))\n",
    "\n",
    "    fig.add_scatter(name=\"Run %d\" % run_number,\n",
    "                    x=n,\n",
    "                    y=y\n",
    "                    );\n",
    "    run_number += 1\n",
    "```"
   ]
  },
  {
   "cell_type": "markdown",
   "metadata": {},
   "source": [
    "For extra credit, plot relative error:\n",
    "```python\n",
    "relative error = (100 * abs((approx_pi(x) - math.pi) / math.pi))\n",
    "```"
   ]
  }
 ],
 "metadata": {
  "kernelspec": {
   "display_name": "Python 3",
   "language": "python",
   "name": "python3"
  },
  "language_info": {
   "codemirror_mode": {
    "name": "ipython",
    "version": 3
   },
   "file_extension": ".py",
   "mimetype": "text/x-python",
   "name": "python",
   "nbconvert_exporter": "python",
   "pygments_lexer": "ipython3",
   "version": "3.7.1"
  }
 },
 "nbformat": 4,
 "nbformat_minor": 2
}
