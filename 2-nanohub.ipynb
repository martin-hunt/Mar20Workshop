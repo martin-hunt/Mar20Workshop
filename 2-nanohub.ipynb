{
 "cells": [
  {
   "cell_type": "markdown",
   "metadata": {},
   "source": [
    "# Jupyter on nanoHUB"
   ]
  },
  {
   "cell_type": "markdown",
   "metadata": {},
   "source": [
    "# Environments\n",
    "\n",
    "* A set of binaries and libraries forms an environment.\n",
    "* As libraries and Jupyter are updated, old notebooks may no longer run\n",
    "* Users who share notebooks may have difficulty running notebooks because they have different libraries in their environment.\n",
    "* We release new environments which become the defaault, but the old ones are preserved.\n",
    "\n",
    "# Notebook Extensions\n",
    "* There are dozens (hundreds?) of extensions availablke for Jupyter notebooks.\n",
    "* Exntension may add menu items, new functionality or new visualizations.\n",
    "* Notebooks that use extensions won't run on a Jupyter installation that lacks that extension.\n"
   ]
  },
  {
   "cell_type": "markdown",
   "metadata": {},
   "source": [
    "# Why nanoHUB for Jupyter?\n",
    "\n",
    "* Common environment for all users\n",
    "  * Your notebook will run the same for all users. \n",
    "  * Common set of extensions and libraries.\n",
    "\n",
    "* Access nanoHUB features\n",
    "(or why not just run Jupyter on your laptop?)\n",
    "  * Runs in your persistent, backed-up, cloud storage.\n",
    "  * Can use Submit to have jobs run on the clusters.\n",
    "  * Publish your notebooks\n",
    "  \n",
    "* Reproducibility\n",
    "  * Published notebooks always run in the same environment.\n"
   ]
  },
  {
   "cell_type": "markdown",
   "metadata": {},
   "source": [
    "# Running on your Personal System\n",
    "    \n",
    "We start with https://www.anaconda.com/distribution/.\n",
    "\n",
    "Then add many scientific packages with conda and pip.\n"
   ]
  }
 ],
 "metadata": {
  "kernelspec": {
   "display_name": "Python 3",
   "language": "python",
   "name": "python3"
  },
  "language_info": {
   "codemirror_mode": {
    "name": "ipython",
    "version": 3
   },
   "file_extension": ".py",
   "mimetype": "text/x-python",
   "name": "python",
   "nbconvert_exporter": "python",
   "pygments_lexer": "ipython3",
   "version": "3.7.1"
  }
 },
 "nbformat": 4,
 "nbformat_minor": 2
}
