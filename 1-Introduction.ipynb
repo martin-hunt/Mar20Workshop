{
 "cells": [
  {
   "cell_type": "markdown",
   "metadata": {},
   "source": [
    "# What is Jupyter?\n",
    "\n",
    "* \"The Jupyter Notebook is an open-source web application that allows you to create and share documents that contain live code, equations, visualizations and narrative text.\"\n",
    "\n",
    "* A set of standards allowing code written in different languages to display output and visualizations in a web browser.\n",
    "\n",
    "* A large community with a rapidly growing ecosystem of libraries and extensions."
   ]
  },
  {
   "cell_type": "markdown",
   "metadata": {},
   "source": [
    "# What Is It Good For?\n",
    "\n",
    "* Interactive Analysis\n",
    "* Education\n",
    "* Interactive Papers\n",
    "* Testing and developing\n",
    "* Presentations and Demos\n",
    "\n",
    "# What Is It NOT Good For (yet)?\n",
    "\n",
    "* Large software projects\n",
    "* Group software development"
   ]
  },
  {
   "cell_type": "markdown",
   "metadata": {},
   "source": [
    "# The Basics (live demo)\n",
    "\n",
    "* Markdown cells\n",
    " * [Markdown](1-markdown.ipynb)\n",
    " * [Images](1-images.ipynb)\n",
    " * HTML\n",
    " * Edit mode\n",
    "* Code cells\n",
    " * How to run\n",
    " * Cell output - display and ;\n",
    "* Tree View\n",
    " * Upload/Download\n",
    " * Terminal\n",
    "* Menubar Tour"
   ]
  },
  {
   "cell_type": "markdown",
   "metadata": {},
   "source": [
    "# Python and other languages...\n",
    "* You can use Jupyter with any language...\n",
    "* but Python is most commonly used\n",
    "  * Top 3 programming language\n",
    "  * Number 1 scientific programming language\n",
    "  * Huge ecosystem of libraries and Jupyter extensions"
   ]
  },
  {
   "cell_type": "markdown",
   "metadata": {},
   "source": [
    "# Line Magic and Cell Magic\n",
    "* Python notebooks only\n",
    "* [Cell Magic](1-magic.ipynb)"
   ]
  },
  {
   "cell_type": "markdown",
   "metadata": {},
   "source": [
    "# Running Jupyter on nanoHUB\n",
    "\n",
    "The current version of jupyter is at\n",
    "http://nanohub.org/tools/jupyter\n",
    "\n",
    "And the development version is\n",
    "http://nanohub.org/tools/jupyterdev\n",
    "\n",
    "Users Manual and Examples are published at\n",
    "http://nanohub.org/tools/jupyterexamples\n"
   ]
  },
  {
   "cell_type": "markdown",
   "metadata": {},
   "source": [
    "# Hands-On Exercise\n",
    "\n",
    "* Launch jupyter on nanohub\n",
    "* Open a Terminal\n",
    "  * \"git clone https://github.com/hubzero/Mar20Workshop.git\"\n",
    "  * Go to the 20MarWorkshop folder and create a new Python 3 notebook\n",
    "  * Name it MonteCarloPi\n",
    "  * Describe your notebook in a markdown cell\n",
    "  * include at least one image from the \"images\" subdirectory\n",
    "  * Add the following two cells\n",
    "``` python\n",
    "from random import random\n",
    "import math\n",
    "```\n",
    "``` python\n",
    "def approx_pi(n):\n",
    "    inside = 0\n",
    "    for i in range(0, n):\n",
    "        # pick two random numbers in [0,1)\n",
    "        x = random()\n",
    "        y = random()\n",
    "        if math.sqrt(x**2 + y**2) < 1.0:\n",
    "            # inside the circle\n",
    "            inside += 1\n",
    "    return 4 * (inside / n)\n",
    "```\n",
    "  * Test the approx_pi() function"
   ]
  },
  {
   "cell_type": "markdown",
   "metadata": {},
   "source": [
    "# For Later\n",
    "For more detailed IPython examples, see [1-more](1-more)\n",
    "\n",
    "Those examples are from https://github.com/jupyter/ngcm-tutorial and are\n",
    "Copyright (c) 2017, Project Jupyter Contributors"
   ]
  },
  {
   "cell_type": "markdown",
   "metadata": {},
   "source": [
    "For more examples, see https://github.com/jupyter/jupyter/wiki/A-gallery-of-interesting-Jupyter-Notebooks"
   ]
  }
 ],
 "metadata": {
  "kernelspec": {
   "display_name": "Python 3",
   "language": "python",
   "name": "python3"
  },
  "language_info": {
   "codemirror_mode": {
    "name": "ipython",
    "version": 3
   },
   "file_extension": ".py",
   "mimetype": "text/x-python",
   "name": "python",
   "nbconvert_exporter": "python",
   "pygments_lexer": "ipython3",
   "version": "3.7.1"
  }
 },
 "nbformat": 4,
 "nbformat_minor": 2
}
