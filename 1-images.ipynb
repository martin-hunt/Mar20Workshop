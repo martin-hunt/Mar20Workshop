{
 "cells": [
  {
   "cell_type": "markdown",
   "metadata": {},
   "source": [
    "# Embedding Images in the Notebook\n",
    "## Basics"
   ]
  },
  {
   "cell_type": "markdown",
   "metadata": {},
   "source": [
    "Previously, you learned you can embed images using html,\n",
    "```html\n",
    "<img src=\"images/nanohub.png\" />\n",
    "```\n",
    "<img src=\"images/nanohub.png\" />"
   ]
  },
  {
   "cell_type": "markdown",
   "metadata": {},
   "source": [
    "Here is the markdown notation to embed images \n",
    "```markdown\n",
    "![](images/nanohub.png)\n",
    "```\n",
    "![](images/nanohub.png)"
   ]
  },
  {
   "cell_type": "markdown",
   "metadata": {},
   "source": [
    "If you want information to popup when you hover over the image:\n",
    "```md\n",
    "![](images/nanohub.png \"Popup Info\")\n",
    "```\n",
    "```html\n",
    "<img src=\"images/nanohub.png\" data-toggle=\"popover\" title=\"Popup Info\"/>\n",
    "```\n",
    "![](images/nanohub.png \"Popup Info\")\n",
    "<img src=\"images/nanohub.png\" data-toggle=\"popover\" title=\"Popup Info\"/>\n"
   ]
  },
  {
   "cell_type": "markdown",
   "metadata": {},
   "source": [
    "Of course, the images don't have to be local:\n",
    "```html\n",
    "<img src=\"https://openclipart.org/download/203314/chemical.svg\" style=\"width: 10%\" />\n",
    "```\n",
    "```markdown\n",
    "![](http://nanohub.org/app/site/groups/20842/uploads/nanoHUB_bluefull.png)\n",
    "```\n",
    "<img src=\"https://openclipart.org/download/203314/chemical.svg\" style=\"width: 10%\" />\n",
    "\n",
    "![](http://nanohub.org/app/site/groups/20842/uploads/nanoHUB_bluefull.png)"
   ]
  },
  {
   "cell_type": "markdown",
   "metadata": {},
   "source": [
    "The images can be JPEG, GIF or SVG."
   ]
  },
  {
   "cell_type": "markdown",
   "metadata": {},
   "source": [
    "### NEW - Images Attached to Markdown Cells\n",
    "\n",
    "If you drag an image into a markdown cell in edit mode (or select Edit/Insert Image), an image will be inserted into the cell output, instead of being uploaded as a seperate file. Use \"Edit/Cut Cell Attachments\" to remove."
   ]
  },
  {
   "cell_type": "markdown",
   "metadata": {},
   "source": [
    "![](attachment_example.png)"
   ]
  },
  {
   "cell_type": "markdown",
   "metadata": {},
   "source": [
    "## Resizing\n",
    "\n",
    "To resize, use the HTML5 style tag.  You can specify either the width or height.  The image will be resized to maintain aspect ratio.\n",
    "\n",
    "```html\n",
    "<img  src=\"images/cat.jpg\" style=\"width: 100px\"/>\n",
    "<img  src=\"images/cat.jpg\" style=\"height: 150px\"/>\n",
    "```\n",
    "<img  src=\"images/cat.jpg\" style=\"width: 100px\"/>\n",
    "<img  src=\"images/cat.jpg\" style=\"height: 150px\"/>\n",
    "\n",
    "If you specify both width and height, the image could be distorted.\n",
    "```html\n",
    "<img  src=\"images/cat.jpg\" style=\"width: 100px; height: 150px\"/>\n",
    "```\n",
    "<img  src=\"images/cat.jpg\" style=\"width: 100px; height: 150px\"/>"
   ]
  },
  {
   "cell_type": "markdown",
   "metadata": {},
   "source": [
    "You can also specify the size as a percent or the window width.  These will resize if the window resizes.\n",
    "\n",
    "```html\n",
    "<img  src=\"images/cat.jpg\" style=\"width: 50%\"/>\n",
    "<img  src=\"images/cat.jpg\" style=\"width: 20%\"/>\n",
    "```\n",
    "<img  src=\"images/cat.jpg\" style=\"width: 50%\"/>\n",
    "<img  src=\"images/cat.jpg\" style=\"width: 20%\"/>\n"
   ]
  },
  {
   "cell_type": "markdown",
   "metadata": {},
   "source": [
    "## Rounding Images\n",
    "```html\n",
    "<img  src=\"images/cat.jpg\" style=\"width: 20%; border-radius:50px\"/>\n",
    "```\n",
    "<img  src=\"images/cat.jpg\" style=\"width: 20%; border-radius:50px\"/>\n",
    "\n",
    "```html\n",
    "<img  src=\"images/cat.jpg\" class=\"img-circle\" style=\"width: 20%\"/>\n",
    "```\n",
    "<img  src=\"images/cat.jpg\" class=\"img-circle\" style=\"width: 20%\"/>"
   ]
  },
  {
   "cell_type": "markdown",
   "metadata": {},
   "source": [
    "## Multiple Images\n",
    "```html\n",
    "<img  src=\"images/tulips.jpg\" style=\"width: 30%; float: left\"/>\n",
    "<img  src=\"images/cat.jpg\" style=\"width: 30%; float: right\"/>\n",
    "<center>Two images side-by-side</center>\n",
    "```\n",
    "<img  src=\"images/tulips.jpg\" style=\"width: 30%; float: left\"/>\n",
    "<img  src=\"images/cat.jpg\" style=\"width: 30%; float: right\"/>\n",
    "<center>Two images side-by-side</center>"
   ]
  },
  {
   "cell_type": "markdown",
   "metadata": {},
   "source": [
    "```html\n",
    "<img  src=\"images/tulips.jpg\" style=\"width: 30%; float: left\"/>\n",
    "<img  src=\"images/cat.jpg\" style=\"width: 30%; float: right\"/>\n",
    "<img  src=\"images/cat.gif\" style=\"width: 30%\"/>\n",
    "```\n",
    "<img  src=\"images/tulips.jpg\" style=\"width: 30%; float: left\"/>\n",
    "<img  src=\"images/cat.jpg\" style=\"width: 30%; float: right\"/>\n",
    "<img  src=\"images/cat.gif\" style=\"width: 30%\"/>"
   ]
  },
  {
   "cell_type": "markdown",
   "metadata": {},
   "source": [
    "## Combining Text and Images\n",
    "<img  src=\"images/cat.gif\" style=\"width: 30%\"/>\n",
    "Lorem ipsum dolor sit amet, consectetur adipiscing elit. In egestas fringilla mollis. Nunc nisi lectus, vulputate sed magna non, gravida molestie sem. Nullam quis ante eu dui tincidunt vestibulum. Suspendisse sit amet consequat ante. Curabitur quis sem urna. Aenean eu ex purus. Donec et ex ornare, ultrices massa ut, ultricies sapien. Ut pellentesque arcu eu laoreet semper. Vivamus maximus ullamcorper vulputate. Quisque pharetra lacus non fringilla volutpat. Etiam vitae euismod felis. Nulla at mattis sapien, et faucibus turpis.\n",
    "\n",
    "Donec vel diam eget velit molestie euismod a eu metus. Integer feugiat nisl vitae tincidunt accumsan. Mauris id hendrerit eros, eu dapibus est. Proin et ante aliquet, iaculis purus ut, egestas urna. In molestie, augue non mattis porta, neque eros vestibulum leo, sit amet interdum justo felis sit amet felis. Maecenas quis rhoncus augue. Donec commodo cursus urna, vitae dapibus nisi ultricies nec.\n",
    "\n",
    "Duis justo erat, maximus quis tincidunt vitae, venenatis at nibh. Fusce finibus sapien ipsum. Integer at elit nibh. Vestibulum mi elit, aliquam nec arcu a, fermentum finibus odio. Suspendisse fermentum pulvinar tincidunt. Nullam eget malesuada urna, eu efficitur mi. Nullam ornare at nibh id suscipit. Integer tristique ante eu sem interdum rutrum non quis lectus. Sed non ex mi. Curabitur cursus nisi in turpis fringilla, consequat interdum purus dapibus. Aliquam et tincidunt mi, nec laoreet nibh. Nunc egestas leo sed luctus lobortis. Praesent sagittis ornare erat, eu euismod massa molestie in. Maecenas id diam eget nulla sodales sodales. Aliquam egestas, enim sit amet fermentum dignissim, enim diam eleifend risus, eu consequat elit diam eget sem. Maecenas a iaculis tellus."
   ]
  },
  {
   "cell_type": "markdown",
   "metadata": {},
   "source": [
    "### Use \"float\" to allow text to flow around the images.\n",
    "\n",
    "<img  src=\"images/cat.gif\" style=\"width: 30%; float: left\"/>\n",
    "Lorem ipsum dolor sit amet, consectetur adipiscing elit. In egestas fringilla mollis. Nunc nisi lectus, vulputate sed magna non, gravida molestie sem. Nullam quis ante eu dui tincidunt vestibulum. Suspendisse sit amet consequat ante. Curabitur quis sem urna. Aenean eu ex purus. Donec et ex ornare, ultrices massa ut, ultricies sapien. Ut pellentesque arcu eu laoreet semper. Vivamus maximus ullamcorper vulputate. Quisque pharetra lacus non fringilla volutpat. Etiam vitae euismod felis. Nulla at mattis sapien, et faucibus turpis.\n",
    "\n",
    "Donec vel diam eget velit molestie euismod a eu metus. Integer feugiat nisl vitae tincidunt accumsan. Mauris id hendrerit eros, eu dapibus est. Proin et ante aliquet, iaculis purus ut, egestas urna. In molestie, augue non mattis porta, neque eros vestibulum leo, sit amet interdum justo felis sit amet felis. Maecenas quis rhoncus augue. Donec commodo cursus urna, vitae dapibus nisi ultricies nec.\n",
    "\n",
    "Duis justo erat, maximus quis tincidunt vitae, venenatis at nibh. Fusce finibus sapien ipsum. Integer at elit nibh. Vestibulum mi elit, aliquam nec arcu a, fermentum finibus odio. Suspendisse fermentum pulvinar tincidunt. Nullam eget malesuada urna, eu efficitur mi. Nullam ornare at nibh id suscipit. Integer tristique ante eu sem interdum rutrum non quis lectus. Sed non ex mi. Curabitur cursus nisi in turpis fringilla, consequat interdum purus dapibus. Aliquam et tincidunt mi, nec laoreet nibh. Nunc egestas leo sed luctus lobortis. Praesent sagittis ornare erat, eu euismod massa molestie in. Maecenas id diam eget nulla sodales sodales. Aliquam egestas, enim sit amet fermentum dignissim, enim diam eleifend risus, eu consequat elit diam eget sem. Maecenas a iaculis tellus."
   ]
  },
  {
   "cell_type": "markdown",
   "metadata": {},
   "source": [
    "### Now float right and add some padding\n",
    "\n",
    "<img  src=\"images/cat.gif\" style=\"width: 30%; float: right; padding:20px\"/>\n",
    "Lorem ipsum dolor sit amet, consectetur adipiscing elit. In egestas fringilla mollis. Nunc nisi lectus, vulputate sed magna non, gravida molestie sem. Nullam quis ante eu dui tincidunt vestibulum. Suspendisse sit amet consequat ante. Curabitur quis sem urna. Aenean eu ex purus. Donec et ex ornare, ultrices massa ut, ultricies sapien. Ut pellentesque arcu eu laoreet semper. Vivamus maximus ullamcorper vulputate. Quisque pharetra lacus non fringilla volutpat. Etiam vitae euismod felis. Nulla at mattis sapien, et faucibus turpis.\n",
    "\n",
    "Donec vel diam eget velit molestie euismod a eu metus. Integer feugiat nisl vitae tincidunt accumsan. Mauris id hendrerit eros, eu dapibus est. Proin et ante aliquet, iaculis purus ut, egestas urna. In molestie, augue non mattis porta, neque eros vestibulum leo, sit amet interdum justo felis sit amet felis. Maecenas quis rhoncus augue. Donec commodo cursus urna, vitae dapibus nisi ultricies nec.\n",
    "\n",
    "Duis justo erat, maximus quis tincidunt vitae, venenatis at nibh. Fusce finibus sapien ipsum. Integer at elit nibh. Vestibulum mi elit, aliquam nec arcu a, fermentum finibus odio. Suspendisse fermentum pulvinar tincidunt. Nullam eget malesuada urna, eu efficitur mi. Nullam ornare at nibh id suscipit. Integer tristique ante eu sem interdum rutrum non quis lectus. Sed non ex mi. Curabitur cursus nisi in turpis fringilla, consequat interdum purus dapibus. Aliquam et tincidunt mi, nec laoreet nibh. Nunc egestas leo sed luctus lobortis. Praesent sagittis ornare erat, eu euismod massa molestie in. Maecenas id diam eget nulla sodales sodales. Aliquam egestas, enim sit amet fermentum dignissim, enim diam eleifend risus, eu consequat elit diam eget sem. Maecenas a iaculis tellus."
   ]
  },
  {
   "cell_type": "markdown",
   "metadata": {},
   "source": [
    "### Try it with multiple images\n",
    "<img  src=\"images/tulips.jpg\" style=\"width: 30%; float: left; padding: 10px\"/>\n",
    "<img  src=\"images/cat.jpg\" style=\"width: 30%; float: right; padding: 10px\"/>\n",
    "Lorem ipsum dolor sit amet, consectetur adipiscing elit. In egestas fringilla mollis. Nunc nisi lectus, vulputate sed magna non, gravida molestie sem. Nullam quis ante eu dui tincidunt vestibulum. Suspendisse sit amet consequat ante. Curabitur quis sem urna. Aenean eu ex purus. Donec et ex ornare, ultrices massa ut, ultricies sapien. Ut pellentesque arcu eu laoreet semper. Vivamus maximus ullamcorper vulputate. Quisque pharetra lacus non fringilla volutpat. Etiam vitae euismod felis. Nulla at mattis sapien, et faucibus turpis.\n",
    "\n",
    "Donec vel diam eget velit molestie euismod a eu metus. Integer feugiat nisl vitae tincidunt accumsan. Mauris id hendrerit eros, eu dapibus est. Proin et ante aliquet, iaculis purus ut, egestas urna. In molestie, augue non mattis porta, neque eros vestibulum leo, sit amet interdum justo felis sit amet felis. Maecenas quis rhoncus augue. Donec commodo cursus urna, vitae dapibus nisi ultricies nec.\n",
    "\n",
    "Duis justo erat, maximus quis tincidunt vitae, venenatis at nibh. Fusce finibus sapien ipsum. Integer at elit nibh. Vestibulum mi elit, aliquam nec arcu a, fermentum finibus odio. Suspendisse fermentum pulvinar tincidunt. Nullam eget malesuada urna, eu efficitur mi. Nullam ornare at nibh id suscipit. Integer tristique ante eu sem interdum rutrum non quis lectus. Sed non ex mi. Curabitur cursus nisi in turpis fringilla, consequat interdum purus dapibus. Aliquam et tincidunt mi, nec laoreet nibh. Nunc egestas leo sed luctus lobortis. Praesent sagittis ornare erat, eu euismod massa molestie in. Maecenas id diam eget nulla sodales sodales. Aliquam egestas, enim sit amet fermentum dignissim, enim diam eleifend risus, eu consequat elit diam eget sem. Maecenas a iaculis tellus."
   ]
  }
 ],
 "metadata": {
  "kernelspec": {
   "display_name": "Python 3",
   "language": "python",
   "name": "python3"
  },
  "language_info": {
   "codemirror_mode": {
    "name": "ipython",
    "version": 3
   },
   "file_extension": ".py",
   "mimetype": "text/x-python",
   "name": "python",
   "nbconvert_exporter": "python",
   "pygments_lexer": "ipython3",
   "version": "3.7.1"
  }
 },
 "nbformat": 4,
 "nbformat_minor": 2
}
